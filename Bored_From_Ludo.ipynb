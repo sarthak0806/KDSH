{
  "nbformat": 4,
  "nbformat_minor": 0,
  "metadata": {
    "colab": {
      "provenance": [],
      "collapsed_sections": [
        "cdDQSJoPA0X6",
        "6zwmltO9A5xE",
        "Iqa5NXt7Bvxu",
        "YPwBd1C9NGQK",
        "iM6-VKuGBhHF",
        "lrmfWKJYNBV-",
        "i0PP_PcKqBY4"
      ],
      "include_colab_link": true
    },
    "kernelspec": {
      "name": "python3",
      "display_name": "Python 3"
    },
    "language_info": {
      "name": "python"
    }
  },
  "cells": [
    {
      "cell_type": "markdown",
      "metadata": {
        "id": "view-in-github",
        "colab_type": "text"
      },
      "source": [
        "<a href=\"https://colab.research.google.com/github/sarthak0806/KDSH/blob/main/Bored_From_Ludo.ipynb\" target=\"_parent\"><img src=\"https://colab.research.google.com/assets/colab-badge.svg\" alt=\"Open In Colab\"/></a>"
      ]
    },
    {
      "cell_type": "markdown",
      "source": [
        "# Imports"
      ],
      "metadata": {
        "id": "cdDQSJoPA0X6"
      }
    },
    {
      "cell_type": "code",
      "source": [
        "import pandas as pd\n",
        "import numpy as np\n",
        "import matplotlib.pyplot as plt\n",
        "from statsmodels.tsa.seasonal import seasonal_decompose\n",
        "from sklearn.preprocessing import MinMaxScaler\n",
        "from keras.models import Sequential, load_model\n",
        "from keras.layers import Dense, LSTM, Dropout, Activation\n",
        "from prophet import Prophet\n",
        "from sklearn.ensemble import RandomForestRegressor"
      ],
      "metadata": {
        "id": "SydFDRAzA9sd"
      },
      "execution_count": null,
      "outputs": []
    },
    {
      "cell_type": "markdown",
      "source": [
        "# Loading Data"
      ],
      "metadata": {
        "id": "6zwmltO9A5xE"
      }
    },
    {
      "cell_type": "code",
      "source": [
        "from google.colab import drive\n",
        "drive.mount('/content/drive')"
      ],
      "metadata": {
        "colab": {
          "base_uri": "https://localhost:8080/"
        },
        "id": "ukTXa1nR_7sT",
        "outputId": "7c663c7b-d7f8-4267-a8ee-f2d424de4fbc"
      },
      "execution_count": null,
      "outputs": [
        {
          "output_type": "stream",
          "name": "stdout",
          "text": [
            "Mounted at /content/drive\n"
          ]
        }
      ]
    },
    {
      "cell_type": "code",
      "source": [
        "dataset = pd.read_csv('/content/btc_1h.csv')\n",
        "df3=dataset.copy()"
      ],
      "metadata": {
        "id": "TslfJvgLBXff"
      },
      "execution_count": null,
      "outputs": []
    },
    {
      "cell_type": "code",
      "source": [
        "data_list = []\n",
        "for name in dataset.columns:\n",
        "  if name not in (['datetime','volume']):\n",
        "    name = dataset[name]\n",
        "    data_list.append(name)"
      ],
      "metadata": {
        "id": "5k9IuAv4FnK0"
      },
      "execution_count": null,
      "outputs": []
    },
    {
      "cell_type": "code",
      "source": [
        "feat_names = ['open','high','low','close']"
      ],
      "metadata": {
        "id": "4sx0o_wce9rj"
      },
      "execution_count": null,
      "outputs": []
    },
    {
      "cell_type": "markdown",
      "source": [
        "# EDA, Feature Engineering and Data Preparation"
      ],
      "metadata": {
        "id": "Iqa5NXt7Bvxu"
      }
    },
    {
      "cell_type": "code",
      "source": [
        "def seasonal_decompose_data(data,type = 'additive',period = 100):\n",
        "  decomposed = seasonal_decompose(data, model = type, period = period)\n",
        "  fig = plt.figure()\n",
        "  fig = decomposed.plot()\n",
        "  fig.set_size_inches(15,10)"
      ],
      "metadata": {
        "id": "YgHzFefmB-Id"
      },
      "execution_count": null,
      "outputs": []
    },
    {
      "cell_type": "code",
      "source": [
        "for data in data_list:\n",
        "  seasonal_decompose_data(data)"
      ],
      "metadata": {
        "id": "Z5P_aPE9l8wZ"
      },
      "execution_count": null,
      "outputs": []
    },
    {
      "cell_type": "code",
      "source": [
        "def plot_auto_cor(data):\n",
        "  pd.plotting.autocorrelation_plot(data)"
      ],
      "metadata": {
        "id": "7Zyi5ZYQEmFd"
      },
      "execution_count": null,
      "outputs": []
    },
    {
      "cell_type": "code",
      "source": [
        "plot_auto_cor(data_list[0])"
      ],
      "metadata": {
        "id": "8eMt-Wgfl_FK"
      },
      "execution_count": null,
      "outputs": []
    },
    {
      "cell_type": "code",
      "source": [
        "def Scaling(data):\n",
        "  sc = MinMaxScaler(feature_range = (0, 1))\n",
        "  scaled_data = sc.fit_transform(data)\n",
        "  return scaled_data, sc\n"
      ],
      "metadata": {
        "id": "e2p44qUadMXR"
      },
      "execution_count": null,
      "outputs": []
    },
    {
      "cell_type": "code",
      "source": [
        "def train_test_split(dataset,percent_size=0.8):\n",
        "  dataset=pd.DataFrame(dataset)\n",
        "  n_train_rows = int(0.8*len(dataset))\n",
        "\n",
        "  train = dataset[:n_train_rows]\n",
        "  test = dataset[n_train_rows:]\n",
        "\n",
        "  return train, test"
      ],
      "metadata": {
        "id": "tY-EHvkLecpP"
      },
      "execution_count": null,
      "outputs": []
    },
    {
      "cell_type": "code",
      "source": [
        "def xy(data,steps=24):\n",
        "  x_train = []\n",
        "  y_train = []\n",
        "\n",
        "  for i in range(steps, data.shape[0]-steps):\n",
        "      x_train.append(data.iloc[i-steps:i, :])\n",
        "      y_train.append(data.iloc[i, :])\n",
        "\n",
        "  x_train, y_train = np.array(x_train), np.array(y_train)\n",
        "  return x_train,y_train"
      ],
      "metadata": {
        "id": "2e6bV7dm-pze"
      },
      "execution_count": null,
      "outputs": []
    },
    {
      "cell_type": "code",
      "source": [
        "def RMSE(test,pred):\n",
        "  rmse = np.sqrt(np.mean(((pred - test) ** 2)))\n",
        "  return rmse"
      ],
      "metadata": {
        "id": "7vGvqk3bAdRU"
      },
      "execution_count": null,
      "outputs": []
    },
    {
      "cell_type": "markdown",
      "source": [
        "# LSTM"
      ],
      "metadata": {
        "id": "YPwBd1C9NGQK"
      }
    },
    {
      "cell_type": "code",
      "source": [
        "dataset=df3\n",
        "dataset=dataset.drop(columns=['datetime','open','high','volume','low'])\n",
        "dataset,sc=Scaling(dataset)\n",
        "\n",
        "train, test = train_test_split(dataset,0.8)\n",
        "\n",
        "x_train,y_train=xy(train)\n",
        "x_test,y_test=xy(test)"
      ],
      "metadata": {
        "id": "jcVYVlcTAtGC"
      },
      "execution_count": null,
      "outputs": []
    },
    {
      "cell_type": "code",
      "source": [
        "model = Sequential()\n",
        "model.add(LSTM(units=128,activation='relu', return_sequences = True, input_shape = (x_train.shape[1],1)))\n",
        "model.add(LSTM(units=64, return_sequences = False))\n",
        "model.add(Dense(units=25))\n",
        "model.add(Dense(units=1))\n",
        "model.compile(loss=\"mean_squared_error\", optimizer=\"adam\")\n",
        "model.summary()"
      ],
      "metadata": {
        "colab": {
          "base_uri": "https://localhost:8080/"
        },
        "id": "7_fh-ihmiTbU",
        "outputId": "b6ea1c06-60b6-46f3-ef6d-04d7b8c23e0b"
      },
      "execution_count": null,
      "outputs": [
        {
          "output_type": "stream",
          "name": "stdout",
          "text": [
            "Model: \"sequential_6\"\n",
            "_________________________________________________________________\n",
            " Layer (type)                Output Shape              Param #   \n",
            "=================================================================\n",
            " lstm_12 (LSTM)              (None, 24, 128)           66560     \n",
            "                                                                 \n",
            " lstm_13 (LSTM)              (None, 64)                49408     \n",
            "                                                                 \n",
            " dense_12 (Dense)            (None, 25)                1625      \n",
            "                                                                 \n",
            " dense_13 (Dense)            (None, 1)                 26        \n",
            "                                                                 \n",
            "=================================================================\n",
            "Total params: 117619 (459.45 KB)\n",
            "Trainable params: 117619 (459.45 KB)\n",
            "Non-trainable params: 0 (0.00 Byte)\n",
            "_________________________________________________________________\n"
          ]
        }
      ]
    },
    {
      "cell_type": "code",
      "source": [
        "nepochs = 10\n",
        "model.fit(x_train, y_train, epochs = nepochs)"
      ],
      "metadata": {
        "id": "0TWNP1gKmDC6"
      },
      "execution_count": null,
      "outputs": []
    },
    {
      "cell_type": "code",
      "source": [
        "y_hat = model.predict(x_test)\n",
        "y_hat = sc.inverse_transform(y_hat)\n",
        "y_test=sc.inverse_transform(y_test)"
      ],
      "metadata": {
        "id": "6Ah4OVfQNzMr",
        "colab": {
          "base_uri": "https://localhost:8080/"
        },
        "outputId": "3c3158a9-cb1e-4ad4-b789-26c6913488c7"
      },
      "execution_count": null,
      "outputs": [
        {
          "output_type": "stream",
          "name": "stdout",
          "text": [
            "222/222 [==============================] - 7s 26ms/step\n"
          ]
        }
      ]
    },
    {
      "cell_type": "code",
      "source": [
        "print(\"RMSE from LSTM: \")\n",
        "print((RMSE(y_test,y_hat)))"
      ],
      "metadata": {
        "id": "7-qUhYl3iV6y"
      },
      "execution_count": null,
      "outputs": []
    },
    {
      "cell_type": "code",
      "source": [
        "plt.figure(figsize = (18,9))\n",
        "plt.plot(y_test, color = 'red', label = 'Actual')\n",
        "plt.plot(y_hat, color = 'blue', label = 'Predictions')\n",
        "plt.title('LSTM')\n",
        "plt.ylabel('close')\n",
        "plt.legend()\n",
        "plt.show()"
      ],
      "metadata": {
        "id": "REY3iYBDiYHi"
      },
      "execution_count": null,
      "outputs": []
    },
    {
      "cell_type": "markdown",
      "source": [
        "# Random Forest"
      ],
      "metadata": {
        "id": "iM6-VKuGBhHF"
      }
    },
    {
      "cell_type": "code",
      "source": [
        "dataset=df3\n",
        "dataset=dataset.drop(columns=['datetime','open','high','volume','low'])\n",
        "dataset,sc=Scaling(dataset)\n",
        "\n",
        "train, test = train_test_split(dataset,0.8)\n",
        "\n",
        "x_train,y_train=xy(train)\n",
        "x_test,y_test=xy(test)\n",
        "\n",
        "x_train, y_train = np.array(x_train), np.array(y_train)\n",
        "x_train = x_train.reshape(x_train.shape[0],x_train.shape[1])\n",
        "y_train = y_train.reshape(y_train.shape[0])\n",
        "\n",
        "x_test, y_test = np.array(x_test), np.array(y_test)\n",
        "x_test = x_test.reshape(x_test.shape[0],x_test.shape[1])\n",
        "y_test = y_test.reshape(y_test.shape[0])"
      ],
      "metadata": {
        "id": "4dPaccCuY1U7"
      },
      "execution_count": null,
      "outputs": []
    },
    {
      "cell_type": "code",
      "source": [
        "model2 = RandomForestRegressor(n_estimators = 250, random_state=0)"
      ],
      "metadata": {
        "id": "dDVtEq8bOMqf"
      },
      "execution_count": null,
      "outputs": []
    },
    {
      "cell_type": "code",
      "source": [
        "model2.fit(x_train,y_train)\n",
        "result=model2.predict(x_test)\n",
        "\n",
        "result=sc.inverse_transform([result])\n",
        "y_test=sc.inverse_transform([y_test])\n",
        "\n",
        "result = result.T\n",
        "y_test = y_test.T"
      ],
      "metadata": {
        "id": "wgxy-PrTONw-"
      },
      "execution_count": null,
      "outputs": []
    },
    {
      "cell_type": "code",
      "source": [
        "print(\"RMSE from Random Forest: \")\n",
        "print(RMSE(result,y_test))"
      ],
      "metadata": {
        "id": "ZW8Kw2W9iaC_"
      },
      "execution_count": null,
      "outputs": []
    },
    {
      "cell_type": "code",
      "source": [
        "plt.figure(figsize = (18,9))\n",
        "plt.plot(y_test, color = 'red', label = 'Actual')\n",
        "plt.plot(result, color = 'blue', label = 'Predictions')\n",
        "plt.title('Random Forest')\n",
        "plt.ylabel('close')\n",
        "plt.legend()\n",
        "plt.show()"
      ],
      "metadata": {
        "id": "wTaFT7AgibYS"
      },
      "execution_count": null,
      "outputs": []
    },
    {
      "cell_type": "markdown",
      "source": [
        "# FB Prophet\n"
      ],
      "metadata": {
        "id": "lrmfWKJYNBV-"
      }
    },
    {
      "cell_type": "code",
      "source": [
        "def FBP_scaler(data):\n",
        "  scaler = MinMaxScaler(feature_range = (0,1))\n",
        "  data.loc[:,'y']  = scaler.fit_transform(pd.DataFrame(data.loc[:,'y']))\n",
        "  return data, scaler"
      ],
      "metadata": {
        "id": "c5uDxEHAmh5j"
      },
      "execution_count": null,
      "outputs": []
    },
    {
      "cell_type": "code",
      "source": [
        "def feat_create(data, nlags = 24):\n",
        "  X = pd.DataFrame([])\n",
        "\n",
        "  for i in range(0, nlags + 1):\n",
        "    X = pd.concat([X, data['y'].rename(str(i)).shift(-i)],axis = 1)\n",
        "\n",
        "  X = pd.concat([data.shift(-(nlags+1)),X], axis = 1)\n",
        "  X = X[:-(nlags + 1)]\n",
        "\n",
        "  train_len = int(len(X) * 0.8)\n",
        "  X_train = X[:train_len]\n",
        "  X_test = X[train_len:]\n",
        "\n",
        "  valid = df3[['datetime','close']].shift(-(train_len + nlags+1))\n",
        "  valid = valid.iloc[:-(nlags + 1 + train_len),:]\n",
        "  X_test = X_test.drop(['y'], axis = 1)\n",
        "\n",
        "  return X_train, X_test, valid"
      ],
      "metadata": {
        "id": "sc5RiqDOmqQf"
      },
      "execution_count": null,
      "outputs": []
    },
    {
      "cell_type": "code",
      "source": [
        "data = df3[['datetime','close']]\n",
        "data.columns = ['ds', 'y']\n",
        "data,scaler = FBP_scaler(data)\n",
        "\n",
        "X_train, X_test, valid = feat_create(data)"
      ],
      "metadata": {
        "id": "OrlRiIo12Ksb",
        "colab": {
          "base_uri": "https://localhost:8080/"
        },
        "outputId": "1e263b2d-260d-45b8-8929-6f56fa2130f5"
      },
      "execution_count": null,
      "outputs": [
        {
          "output_type": "stream",
          "name": "stderr",
          "text": [
            "<ipython-input-114-6ed7cdf02481>:3: SettingWithCopyWarning: \n",
            "A value is trying to be set on a copy of a slice from a DataFrame.\n",
            "Try using .loc[row_indexer,col_indexer] = value instead\n",
            "\n",
            "See the caveats in the documentation: https://pandas.pydata.org/pandas-docs/stable/user_guide/indexing.html#returning-a-view-versus-a-copy\n",
            "  data.loc[:,'y']  = scaler.fit_transform(pd.DataFrame(data.loc[:,'y']))\n"
          ]
        }
      ]
    },
    {
      "cell_type": "code",
      "source": [
        "model = Prophet()\n",
        "for feature in X_train.columns:\n",
        "    if feature not in [\"ds\",\"y\"]:\n",
        "      model.add_regressor(feature)\n",
        "model.fit(X_train)"
      ],
      "metadata": {
        "colab": {
          "base_uri": "https://localhost:8080/"
        },
        "id": "0i1bUgPL3DLu",
        "outputId": "8824a1b9-80da-4675-eb85-1b43e49b5fa5"
      },
      "execution_count": null,
      "outputs": [
        {
          "output_type": "stream",
          "name": "stderr",
          "text": [
            "DEBUG:cmdstanpy:input tempfile: /tmp/tmpsd74fdhb/9lf1jx2f.json\n",
            "DEBUG:cmdstanpy:input tempfile: /tmp/tmpsd74fdhb/ka_a5_6d.json\n",
            "DEBUG:cmdstanpy:idx 0\n",
            "DEBUG:cmdstanpy:running CmdStan, num_threads: None\n",
            "DEBUG:cmdstanpy:CmdStan args: ['/usr/local/lib/python3.10/dist-packages/prophet/stan_model/prophet_model.bin', 'random', 'seed=87699', 'data', 'file=/tmp/tmpsd74fdhb/9lf1jx2f.json', 'init=/tmp/tmpsd74fdhb/ka_a5_6d.json', 'output', 'file=/tmp/tmpsd74fdhb/prophet_modelnor63hmc/prophet_model-20240112205941.csv', 'method=optimize', 'algorithm=lbfgs', 'iter=10000']\n",
            "20:59:41 - cmdstanpy - INFO - Chain [1] start processing\n",
            "INFO:cmdstanpy:Chain [1] start processing\n",
            "21:01:36 - cmdstanpy - INFO - Chain [1] done processing\n",
            "INFO:cmdstanpy:Chain [1] done processing\n"
          ]
        },
        {
          "output_type": "execute_result",
          "data": {
            "text/plain": [
              "<prophet.forecaster.Prophet at 0x7e92901aca30>"
            ]
          },
          "metadata": {},
          "execution_count": 61
        }
      ]
    },
    {
      "cell_type": "code",
      "source": [
        "forecast = model.predict(X_test)\n",
        "prediction = scaler.inverse_transform(forecast[['yhat']])\n",
        "\n",
        "valid['pred'] = prediction\n",
        "valid = valid.set_index('datetime')\n",
        "\n",
        "print(\"RMSE from FB Prophet Model : \")\n",
        "print(RMSE(valid['close'],valid['pred']))"
      ],
      "metadata": {
        "id": "mZ3segmYmGlN"
      },
      "execution_count": null,
      "outputs": []
    },
    {
      "cell_type": "code",
      "source": [
        "plt.figure(figsize=(18,9))\n",
        "plt.title('FB Prophet')\n",
        "plt.xlabel('Date', fontsize=18)\n",
        "plt.ylabel('Close Price USD ($)', fontsize=18)\n",
        "plt.plot(valid['close'], color = 'red', label = 'Actual')\n",
        "plt.plot(valid['pred'], color = 'blue', label = 'Predictions')\n",
        "plt.legend([ 'Val', 'Predictions'], loc='lower right')\n",
        "plt.show()\n"
      ],
      "metadata": {
        "id": "3xmp18qrijww"
      },
      "execution_count": null,
      "outputs": []
    },
    {
      "cell_type": "markdown",
      "source": [
        "# FInal"
      ],
      "metadata": {
        "id": "i0PP_PcKqBY4"
      }
    },
    {
      "cell_type": "code",
      "source": [
        "finalpred=(y_hat + prediction[:y_hat.shape[0]] + result)/3"
      ],
      "metadata": {
        "id": "7WtCSvzBqDGa"
      },
      "execution_count": null,
      "outputs": []
    },
    {
      "cell_type": "code",
      "source": [
        "print(\"Final RMSE: \")\n",
        "print(RMSE(finalpred,y_test))"
      ],
      "metadata": {
        "id": "NR_h6jF5mMmX"
      },
      "execution_count": null,
      "outputs": []
    },
    {
      "cell_type": "code",
      "source": [
        "plt.figure(figsize = (18,9))\n",
        "plt.plot(y_test, color = 'red', label = 'Actual')\n",
        "plt.plot(finalpred, color = 'blue', label = 'Predictions')\n",
        "plt.title('Final Model')\n",
        "plt.ylabel('close')\n",
        "plt.legend()\n",
        "plt.show()"
      ],
      "metadata": {
        "id": "c4uZQLwMmOWU"
      },
      "execution_count": null,
      "outputs": []
    },
    {
      "cell_type": "markdown",
      "source": [
        "# Strategy and Backtesting\n"
      ],
      "metadata": {
        "id": "l9KAl4B6faJx"
      }
    },
    {
      "cell_type": "code",
      "source": [
        "pip install backtesting"
      ],
      "metadata": {
        "id": "Eve5UOZdw0fc"
      },
      "execution_count": null,
      "outputs": []
    },
    {
      "cell_type": "code",
      "source": [
        "!wget http://prdownloads.sourceforge.net/ta-lib/ta-lib-0.4.0-src.tar.gz\n",
        "!tar -xzvf ta-lib-0.4.0-src.tar.gz\n",
        "%cd ta-lib\n",
        "!./configure --prefix=/usr\n",
        "!make\n",
        "!make install\n",
        "!pip install Ta-Lib"
      ],
      "metadata": {
        "id": "dYcZDlWiwKDt"
      },
      "execution_count": null,
      "outputs": []
    },
    {
      "cell_type": "code",
      "source": [
        "from backtesting import Backtest,Strategy\n",
        "from backtesting.lib import crossover\n",
        "import talib\n",
        "from talib import EMA, RSI, MACD"
      ],
      "metadata": {
        "id": "38uaGTpTWf4X"
      },
      "execution_count": null,
      "outputs": []
    },
    {
      "cell_type": "code",
      "source": [
        "data = df3\n",
        "data['datetime']=pd.to_datetime(data['datetime'])\n",
        "data.index=data.pop('datetime')\n",
        "data.columns = ['Open','High','Low','Close','Volume']\n",
        "data.index.name = None"
      ],
      "metadata": {
        "id": "OwDBdS5zwHbL"
      },
      "execution_count": null,
      "outputs": []
    },
    {
      "cell_type": "code",
      "source": [
        "class new(Strategy):\n",
        "  sema_close_period = 75\n",
        "  fema_close_period = 5\n",
        "  rsi_period = 20\n",
        "  min_rsi = 23\n",
        "  max_rsi = 72\n",
        "  macd_fast = 17\n",
        "  macd_slow = 25\n",
        "  stoploss = 3\n",
        "  take_profit = 20\n",
        "  def init(self):\n",
        "\n",
        "    close = self.data.Close\n",
        "    high = self.data.High\n",
        "    low = self.data.Low\n",
        "    self.slowma = self.I(EMA, close, self.sema_close_period)\n",
        "    self.fastma = self.I(EMA, close, self.fema_close_period)\n",
        "    self.macd = self.I(MACD, close,self.macd_slow)\n",
        "    self.macdsig = self.I(MACD,close,self.macd_fast)\n",
        "    self.rsi_val = self.I(RSI, close, self.rsi_period)\n",
        "\n",
        "  def next(self):\n",
        "      curr_price = self.data.Close[-1]\n",
        "\n",
        "      if crossover(self.fastma, self.slowma) :\n",
        "        self.position.close()\n",
        "        self.buy(sl = (100-self.stoploss)*curr_price/100, tp = ((100+self.take_profit)*curr_price/100))\n",
        "      elif crossover(self.slowma, self.fastma) :\n",
        "        self.position.close()\n",
        "        self.sell(sl = (100+self.stoploss)*curr_price/100, tp = ((100-self.take_profit)*curr_price/100))\n",
        "\n",
        "      if self.rsi_val > self.max_rsi and self.macd > self.macdsig:\n",
        "        self.position.close()\n",
        "        self.sell(sl = (100+self.stoploss)*curr_price/100, tp = ((100-self.take_profit)*curr_price/100))\n",
        "\n",
        "      if self.rsi_val < self.min_rsi and self.macd < self.macdsig:\n",
        "        self.position.close()\n",
        "        self.buy(sl = (100-self.stoploss)*curr_price/100, tp = ((100+self.take_profit)*curr_price/100))"
      ],
      "metadata": {
        "id": "UZ6RIW0DWS4M"
      },
      "execution_count": null,
      "outputs": []
    },
    {
      "cell_type": "code",
      "source": [
        "backtest = Backtest(data,new,commission = 0.00,cash=100000,exclusive_orders=True)\n",
        "stats = backtest.run()\n",
        "print(stats)"
      ],
      "metadata": {
        "colab": {
          "base_uri": "https://localhost:8080/"
        },
        "id": "yGhqjCCKcZhs",
        "outputId": "b6704ec3-55eb-4c24-a1ff-0ecc3498ff77"
      },
      "execution_count": null,
      "outputs": [
        {
          "output_type": "stream",
          "name": "stdout",
          "text": [
            "Start                     2018-01-01 05:30:00\n",
            "End                       2022-01-31 05:30:00\n",
            "Duration                   1491 days 00:00:00\n",
            "Exposure Time [%]                   87.589726\n",
            "Equity Final [$]                22866949.7429\n",
            "Equity Peak [$]                 26035297.0879\n",
            "Return [%]                       22766.949743\n",
            "Buy & Hold Return [%]              172.224649\n",
            "Return (Ann.) [%]                  277.704491\n",
            "Volatility (Ann.) [%]              254.285028\n",
            "Sharpe Ratio                         1.092099\n",
            "Sortino Ratio                        8.368836\n",
            "Calmar Ratio                         7.818789\n",
            "Max. Drawdown [%]                  -35.517582\n",
            "Avg. Drawdown [%]                   -3.239976\n",
            "Max. Drawdown Duration      176 days 01:00:00\n",
            "Avg. Drawdown Duration        3 days 11:00:00\n",
            "# Trades                                  906\n",
            "Win Rate [%]                        27.041943\n",
            "Best Trade [%]                      20.093566\n",
            "Worst Trade [%]                     -3.162216\n",
            "Avg. Trade [%]                       0.607572\n",
            "Max. Trade Duration          11 days 03:00:00\n",
            "Avg. Trade Duration           1 days 11:00:00\n",
            "Profit Factor                        1.752793\n",
            "Expectancy [%]                       0.720271\n",
            "SQN                                   1.96793\n",
            "_strategy                                 new\n",
            "_equity_curve                             ...\n",
            "_trades                        Size  Entry...\n",
            "dtype: object\n"
          ]
        }
      ]
    },
    {
      "cell_type": "code",
      "source": [],
      "metadata": {
        "id": "sFQAvMgwl1fY"
      },
      "execution_count": null,
      "outputs": []
    }
  ]
}